{
  "nbformat": 4,
  "nbformat_minor": 0,
  "metadata": {
    "colab": {
      "provenance": [],
      "gpuType": "T4"
    },
    "kernelspec": {
      "name": "python3",
      "display_name": "Python 3"
    },
    "language_info": {
      "name": "python"
    },
    "accelerator": "GPU"
  },
  "cells": [
    {
      "cell_type": "code",
      "execution_count": 16,
      "metadata": {
        "colab": {
          "base_uri": "https://localhost:8080/"
        },
        "id": "0FULIYvCFNdP",
        "outputId": "eee97ebe-55ab-4bb2-bd9f-ccd207e0c640"
      },
      "outputs": [
        {
          "output_type": "stream",
          "name": "stdout",
          "text": [
            "Downloading...\n",
            "From: https://drive.google.com/uc?id=1GOoTLXtlFW4i981hAyoip6h1-FVdEKQq\n",
            "To: /content/Packing-verification.zip\n",
            "100% 55.6M/55.6M [00:02<00:00, 25.8MB/s]\n"
          ]
        }
      ],
      "source": [
        "#Downloading Folder\n",
        "!gdown https://drive.google.com/uc?id=1nF1lfAVrAx6iPwtbxSsEmVn-tV9c-at0"
      ]
    },
    {
      "cell_type": "code",
      "source": [
        "#Unzip Folder\n",
        "!unzip Automate.zip"
      ],
      "metadata": {
        "id": "8MtktlbnFXrM"
      },
      "execution_count": null,
      "outputs": []
    },
    {
      "cell_type": "code",
      "source": [
        "#Installing Our Requirements\n",
        "!pip install -r yolov5/requirements.txt"
      ],
      "metadata": {
        "id": "j0j09hMfHLAR"
      },
      "execution_count": null,
      "outputs": []
    },
    {
      "cell_type": "code",
      "source": [
        "#Perform Detection with Altered detect.py on image\n",
        "!python yolov5/detect.py --weight /content/yolov5/runs/train/exp2/weights/last.pt --source defect.jpg"
      ],
      "metadata": {
        "colab": {
          "base_uri": "https://localhost:8080/"
        },
        "id": "S59ojmWIGz-o",
        "outputId": "5b5348d6-31d8-4ed3-eed2-190ea926a856"
      },
      "execution_count": 13,
      "outputs": [
        {
          "output_type": "stream",
          "name": "stdout",
          "text": [
            "\u001b[34m\u001b[1mdetect: \u001b[0mweights=['/content/yolov5/runs/train/exp2/weights/last.pt'], source=defect.jpg, data=yolov5/data/coco128.yaml, imgsz=[640, 640], conf_thres=0.25, iou_thres=0.45, max_det=1000, device=, view_img=False, save_txt=False, save_csv=False, save_conf=False, save_crop=False, nosave=False, classes=None, agnostic_nms=False, augment=False, visualize=False, update=False, project=yolov5/runs/detect, name=exp, exist_ok=False, line_thickness=3, hide_labels=False, hide_conf=False, half=False, dnn=False, vid_stride=1\n",
            "YOLOv5 🚀 v7.0-230-g53efd07 Python-3.10.12 torch-2.1.0+cu118 CUDA:0 (Tesla T4, 15102MiB)\n",
            "\n",
            "Fusing layers... \n",
            "Model summary: 157 layers, 7018216 parameters, 0 gradients, 15.8 GFLOPs\n",
            "['pencil', 'eraser']\n",
            "pencil is there!\n",
            "eraser is there!\n",
            "Something is Wrong with this Container ❌\n"
          ]
        }
      ]
    }
  ]
}